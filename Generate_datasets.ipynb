{
 "cells": [
  {
   "cell_type": "markdown",
   "metadata": {},
   "source": [
    "## Create Datasets from Spectrum Discover metadata"
   ]
  },
  {
   "cell_type": "code",
   "execution_count": 20,
   "metadata": {},
   "outputs": [],
   "source": [
    "import cv2\n",
    "import json\n",
    "import requests\n",
    "import urllib3\n",
    "import sys\n",
    "import os\n",
    "import logging\n",
    "import json\n",
    "import string\n",
    "import vapi_core as vapi\n",
    "urllib3.disable_warnings()\n",
    "s = requests.Session()\n"
   ]
  },
  {
   "cell_type": "markdown",
   "metadata": {},
   "source": [
    "## Get Token from PowerAI Vision to authenticate commands "
   ]
  },
  {
   "cell_type": "code",
   "execution_count": 21,
   "metadata": {},
   "outputs": [
    {
     "name": "stdout",
     "output_type": "stream",
     "text": [
      "Token retrieved from PAIV is: 548c69af-c955-479b-a471-8b73291cca03\n",
      "Environment variable VAPI_TOKEN is set to: 548c69af-c955-479b-a471-8b73291cca03\n"
     ]
    }
   ],
   "source": [
    "token_str=!python getVisionTokenPass team7 ibmstorage\n",
    "token_list= json.loads(token_str[0])\n",
    "token=token_list.get(\"token\")\n",
    "print(\"Token retrieved from PAIV is: \" + token)\n",
    "os.environ[\"VAPI_TOKEN\"]=token\n",
    "print(\"Environment variable VAPI_TOKEN is set to: \" + os.environ[\"VAPI_TOKEN\"])\n",
    "#crResp=!./createDataset '{\"name\":\"newDataset\", \"scenario\":\"other\"}'"
   ]
  },
  {
   "cell_type": "markdown",
   "metadata": {},
   "source": [
    "# Create a Dataset in PowerAI Vision"
   ]
  },
  {
   "cell_type": "code",
   "execution_count": 22,
   "metadata": {},
   "outputs": [
    {
     "name": "stdout",
     "output_type": "stream",
     "text": [
      "['{', '  \"result\": \"success\",', '  \"dataset_id\": \"4d7012b9-8cff-463e-9493-444a655a135a\"', '}']\n"
     ]
    }
   ],
   "source": [
    "crResp=!./createDataset '{\"name\":\"mydataset1\", \"scenario\":\"other\"}'\n",
    "print(crResp)"
   ]
  },
  {
   "cell_type": "code",
   "execution_count": 23,
   "metadata": {},
   "outputs": [
    {
     "name": "stdout",
     "output_type": "stream",
     "text": [
      "dataset_id is:  \"4d7012b9-8cff-463e-9493-444a655a135a\"\n"
     ]
    }
   ],
   "source": [
    "ds_list=crResp[2].split(':')\n",
    "dataset_id = ds_list[1]\n",
    "print(\"dataset_id is: \" + dataset_id)"
   ]
  },
  {
   "cell_type": "markdown",
   "metadata": {},
   "source": [
    "# Get Image/Video List from Spectrum Discover"
   ]
  },
  {
   "cell_type": "code",
   "execution_count": 24,
   "metadata": {},
   "outputs": [],
   "source": [
    "import csv\n",
    "\n",
    "filenames=''\n",
    "with open('get_character_locations.csv') as file:\n",
    "    reader = csv.reader(file)\n",
    "    with open('path_to_char.csv', 'w') as paths:\n",
    "        writer = csv.writer(paths)\n",
    "        for row in reader:\n",
    "            if (row[28]==\"dora\") and (\"train\" in row[0])and ((\"jpg\" in row[2]) or (\"jpeg\" in row[2]) or (\"png\" in row[2])):\n",
    "#            if (row[28]==\"dora\") and (\"train\" in row[0]) and ((\"mp4\" in row[2]) or (\"mov\" in row[2])):\n",
    "                new_row = [''.join([row[0], row[1]])]\n",
    "                writer.writerow(new_row)\n",
    "                filenames = filenames + ' ' + ''.join([row[0], row[1]])"
   ]
  },
  {
   "cell_type": "markdown",
   "metadata": {},
   "source": [
    "# Upload files to PowerAI Vision"
   ]
  },
  {
   "cell_type": "code",
   "execution_count": 25,
   "metadata": {},
   "outputs": [
    {
     "name": "stdout",
     "output_type": "stream",
     "text": [
      "./uploadFile --dsid  \"4d7012b9-8cff-463e-9493-444a655a135a\" --catid \"\" --catname \"\" --filepath /gpfs/b9t020a07/dora/train/Dora34.jpg\n",
      "\n",
      "0\n",
      "./uploadFile --dsid  \"4d7012b9-8cff-463e-9493-444a655a135a\" --catid \"\" --catname \"\" --filepath /gpfs/b9t020a07/dora/train/Dora43.jpg\n",
      "\n",
      "0\n",
      "./uploadFile --dsid  \"4d7012b9-8cff-463e-9493-444a655a135a\" --catid \"\" --catname \"\" --filepath /gpfs/b9t020a07/dora/train/Dora24.jpg\n",
      "\n",
      "0\n",
      "./uploadFile --dsid  \"4d7012b9-8cff-463e-9493-444a655a135a\" --catid \"\" --catname \"\" --filepath /gpfs/b9t020a07/dora/train/dora4.jpg\n",
      "\n",
      "0\n",
      "./uploadFile --dsid  \"4d7012b9-8cff-463e-9493-444a655a135a\" --catid \"\" --catname \"\" --filepath /gpfs/b9t020a07/dora/train/Dora14.jpg\n",
      "\n",
      "0\n",
      "./uploadFile --dsid  \"4d7012b9-8cff-463e-9493-444a655a135a\" --catid \"\" --catname \"\" --filepath /gpfs/b9t020a07/dora/train/Dora25.png\n",
      "\n",
      "0\n",
      "./uploadFile --dsid  \"4d7012b9-8cff-463e-9493-444a655a135a\" --catid \"\" --catname \"\" --filepath /gpfs/b9t020a07/dora/train/Dora44.jpg\n",
      "\n",
      "0\n",
      "./uploadFile --dsid  \"4d7012b9-8cff-463e-9493-444a655a135a\" --catid \"\" --catname \"\" --filepath /gpfs/b9t020a07/dora/train/Dora34.png\n",
      "\n",
      "0\n",
      "./uploadFile --dsid  \"4d7012b9-8cff-463e-9493-444a655a135a\" --catid \"\" --catname \"\" --filepath /gpfs/b9t020a07/dora/train/Dora5.jpg\n",
      "\n",
      "0\n",
      "./uploadFile --dsid  \"4d7012b9-8cff-463e-9493-444a655a135a\" --catid \"\" --catname \"\" --filepath /gpfs/b9t020a07/dora/train/Dora15.jpg\n",
      "\n",
      "0\n",
      "./uploadFile --dsid  \"4d7012b9-8cff-463e-9493-444a655a135a\" --catid \"\" --catname \"\" --filepath /gpfs/b9t020a07/dora/train/Dora6.jpg\n",
      "\n",
      "0\n",
      "./uploadFile --dsid  \"4d7012b9-8cff-463e-9493-444a655a135a\" --catid \"\" --catname \"\" --filepath /gpfs/b9t020a07/dora/train/Dora16.jpg\n",
      "\n",
      "0\n",
      "./uploadFile --dsid  \"4d7012b9-8cff-463e-9493-444a655a135a\" --catid \"\" --catname \"\" --filepath /gpfs/b9t020a07/dora/train/Dora26.jpg\n",
      "\n",
      "0\n",
      "./uploadFile --dsid  \"4d7012b9-8cff-463e-9493-444a655a135a\" --catid \"\" --catname \"\" --filepath /gpfs/b9t020a07/dora/train/Dora35.jpg\n",
      "\n",
      "0\n",
      "./uploadFile --dsid  \"4d7012b9-8cff-463e-9493-444a655a135a\" --catid \"\" --catname \"\" --filepath /gpfs/b9t020a07/dora/train/Dora45.jpg\n",
      "\n",
      "0\n",
      "./uploadFile --dsid  \"4d7012b9-8cff-463e-9493-444a655a135a\" --catid \"\" --catname \"\" --filepath /gpfs/b9t020a07/dora/train/Dora7.jpg\n",
      "\n",
      "0\n",
      "./uploadFile --dsid  \"4d7012b9-8cff-463e-9493-444a655a135a\" --catid \"\" --catname \"\" --filepath /gpfs/b9t020a07/dora/train/Dora17.jpg\n",
      "\n",
      "0\n",
      "./uploadFile --dsid  \"4d7012b9-8cff-463e-9493-444a655a135a\" --catid \"\" --catname \"\" --filepath /gpfs/b9t020a07/dora/train/Dora27.jpg\n",
      "\n",
      "0\n",
      "./uploadFile --dsid  \"4d7012b9-8cff-463e-9493-444a655a135a\" --catid \"\" --catname \"\" --filepath /gpfs/b9t020a07/dora/train/Dora36.jpg\n",
      "\n",
      "0\n",
      "./uploadFile --dsid  \"4d7012b9-8cff-463e-9493-444a655a135a\" --catid \"\" --catname \"\" --filepath /gpfs/b9t020a07/dora/train/Dora46.jpg\n",
      "\n",
      "0\n",
      "./uploadFile --dsid  \"4d7012b9-8cff-463e-9493-444a655a135a\" --catid \"\" --catname \"\" --filepath /gpfs/b9t020a07/dora/train/Dora8.jpg\n",
      "\n",
      "0\n",
      "./uploadFile --dsid  \"4d7012b9-8cff-463e-9493-444a655a135a\" --catid \"\" --catname \"\" --filepath /gpfs/b9t020a07/dora/train/Dora18.jpg\n",
      "\n",
      "0\n",
      "./uploadFile --dsid  \"4d7012b9-8cff-463e-9493-444a655a135a\" --catid \"\" --catname \"\" --filepath /gpfs/b9t020a07/dora/train/Dora28.jpg\n",
      "\n",
      "0\n",
      "./uploadFile --dsid  \"4d7012b9-8cff-463e-9493-444a655a135a\" --catid \"\" --catname \"\" --filepath /gpfs/b9t020a07/dora/train/Dora37.jpg\n",
      "\n",
      "0\n",
      "./uploadFile --dsid  \"4d7012b9-8cff-463e-9493-444a655a135a\" --catid \"\" --catname \"\" --filepath /gpfs/b9t020a07/dora/train/Dora47.jpg\n",
      "\n",
      "0\n",
      "./uploadFile --dsid  \"4d7012b9-8cff-463e-9493-444a655a135a\" --catid \"\" --catname \"\" --filepath /gpfs/b9t020a07/dora/train/Dora9.jpg\n",
      "\n",
      "0\n",
      "./uploadFile --dsid  \"4d7012b9-8cff-463e-9493-444a655a135a\" --catid \"\" --catname \"\" --filepath /gpfs/b9t020a07/dora/train/Dora19.jpg\n",
      "\n",
      "0\n",
      "./uploadFile --dsid  \"4d7012b9-8cff-463e-9493-444a655a135a\" --catid \"\" --catname \"\" --filepath /gpfs/b9t020a07/dora/train/Dora29.jpg\n",
      "\n",
      "0\n",
      "./uploadFile --dsid  \"4d7012b9-8cff-463e-9493-444a655a135a\" --catid \"\" --catname \"\" --filepath /gpfs/b9t020a07/dora/train/Dora38.png\n",
      "\n",
      "0\n",
      "./uploadFile --dsid  \"4d7012b9-8cff-463e-9493-444a655a135a\" --catid \"\" --catname \"\" --filepath /gpfs/b9t020a07/dora/train/Dora48.jpg\n",
      "\n",
      "0\n",
      "./uploadFile --dsid  \"4d7012b9-8cff-463e-9493-444a655a135a\" --catid \"\" --catname \"\" --filepath /gpfs/b9t020a07/dora/train/Dora10.png\n",
      "\n",
      "0\n",
      "./uploadFile --dsid  \"4d7012b9-8cff-463e-9493-444a655a135a\" --catid \"\" --catname \"\" --filepath /gpfs/b9t020a07/dora/train/Dora20.jpg\n",
      "\n",
      "0\n",
      "./uploadFile --dsid  \"4d7012b9-8cff-463e-9493-444a655a135a\" --catid \"\" --catname \"\" --filepath /gpfs/b9t020a07/dora/train/Dora30.jpg\n",
      "\n",
      "0\n",
      "./uploadFile --dsid  \"4d7012b9-8cff-463e-9493-444a655a135a\" --catid \"\" --catname \"\" --filepath /gpfs/b9t020a07/dora/train/Dora39.jpg\n",
      "\n",
      "0\n",
      "./uploadFile --dsid  \"4d7012b9-8cff-463e-9493-444a655a135a\" --catid \"\" --catname \"\" --filepath /gpfs/b9t020a07/dora/train/Dora49.jpg\n",
      "\n",
      "0\n",
      "./uploadFile --dsid  \"4d7012b9-8cff-463e-9493-444a655a135a\" --catid \"\" --catname \"\" --filepath /gpfs/b9t020a07/dora/train/Dora1.png\n",
      "\n",
      "0\n",
      "./uploadFile --dsid  \"4d7012b9-8cff-463e-9493-444a655a135a\" --catid \"\" --catname \"\" --filepath /gpfs/b9t020a07/dora/train/Dora11.jpg\n",
      "\n",
      "0\n",
      "./uploadFile --dsid  \"4d7012b9-8cff-463e-9493-444a655a135a\" --catid \"\" --catname \"\" --filepath /gpfs/b9t020a07/dora/train/Dora21.jpg\n",
      "\n",
      "0\n",
      "./uploadFile --dsid  \"4d7012b9-8cff-463e-9493-444a655a135a\" --catid \"\" --catname \"\" --filepath /gpfs/b9t020a07/dora/train/Dora31.jpg\n",
      "\n",
      "0\n",
      "./uploadFile --dsid  \"4d7012b9-8cff-463e-9493-444a655a135a\" --catid \"\" --catname \"\" --filepath /gpfs/b9t020a07/dora/train/Dora40.jpg\n",
      "\n",
      "0\n",
      "./uploadFile --dsid  \"4d7012b9-8cff-463e-9493-444a655a135a\" --catid \"\" --catname \"\" --filepath /gpfs/b9t020a07/dora/train/Dora2.jpg\n",
      "\n",
      "0\n",
      "./uploadFile --dsid  \"4d7012b9-8cff-463e-9493-444a655a135a\" --catid \"\" --catname \"\" --filepath /gpfs/b9t020a07/dora/train/Dora12.jpg\n",
      "\n",
      "0\n",
      "./uploadFile --dsid  \"4d7012b9-8cff-463e-9493-444a655a135a\" --catid \"\" --catname \"\" --filepath /gpfs/b9t020a07/dora/train/Dora22.jpg\n",
      "\n",
      "0\n",
      "./uploadFile --dsid  \"4d7012b9-8cff-463e-9493-444a655a135a\" --catid \"\" --catname \"\" --filepath /gpfs/b9t020a07/dora/train/Dora32.jpg\n",
      "\n",
      "0\n",
      "./uploadFile --dsid  \"4d7012b9-8cff-463e-9493-444a655a135a\" --catid \"\" --catname \"\" --filepath /gpfs/b9t020a07/dora/train/Dora41.jpg\n",
      "\n",
      "0\n",
      "./uploadFile --dsid  \"4d7012b9-8cff-463e-9493-444a655a135a\" --catid \"\" --catname \"\" --filepath /gpfs/b9t020a07/dora/train/Dora3.jpg\n",
      "\n",
      "0\n",
      "./uploadFile --dsid  \"4d7012b9-8cff-463e-9493-444a655a135a\" --catid \"\" --catname \"\" --filepath /gpfs/b9t020a07/dora/train/Dora13.jpg\n",
      "\n",
      "0\n",
      "./uploadFile --dsid  \"4d7012b9-8cff-463e-9493-444a655a135a\" --catid \"\" --catname \"\" --filepath /gpfs/b9t020a07/dora/train/Dora23.jpg\n",
      "\n",
      "0\n",
      "./uploadFile --dsid  \"4d7012b9-8cff-463e-9493-444a655a135a\" --catid \"\" --catname \"\" --filepath /gpfs/b9t020a07/dora/train/Dora33.jpg\n",
      "\n",
      "0\n",
      "./uploadFile --dsid  \"4d7012b9-8cff-463e-9493-444a655a135a\" --catid \"\" --catname \"\" --filepath /gpfs/b9t020a07/dora/train/Dora42.jpg\n",
      "\n",
      "0\n"
     ]
    }
   ],
   "source": [
    "#print(filenames)\n",
    "with open('path_to_char.csv') as paths:\n",
    "    for row in paths:\n",
    "        command = './uploadFile' + ' --dsid ' + dataset_id + ' --catid \"\"' + ' --catname \"\"' + \" --filepath \" + row\n",
    "        print(command)\n",
    "        uploadResp=os.system(command)\n",
    "        print(uploadResp)\n"
   ]
  },
  {
   "cell_type": "code",
   "execution_count": null,
   "metadata": {},
   "outputs": [],
   "source": []
  }
 ],
 "metadata": {
  "kernelspec": {
   "display_name": "Python 3",
   "language": "python",
   "name": "python3"
  },
  "language_info": {
   "codemirror_mode": {
    "name": "ipython",
    "version": 3
   },
   "file_extension": ".py",
   "mimetype": "text/x-python",
   "name": "python",
   "nbconvert_exporter": "python",
   "pygments_lexer": "ipython3",
   "version": "3.6.9"
  }
 },
 "nbformat": 4,
 "nbformat_minor": 2
}
